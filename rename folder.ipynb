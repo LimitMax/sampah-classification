{
 "cells": [
  {
   "cell_type": "code",
   "execution_count": 3,
   "metadata": {},
   "outputs": [],
   "source": [
    "import os\n",
    "import shutil\n",
    "\n",
    "# Tentukan direktori data training\n",
    "data_dir = r'Data/Test/botol/'\n",
    "\n",
    "# List semua file dalam direktori\n",
    "file_list = os.listdir(data_dir)\n",
    "\n",
    "# Iterasi melalui setiap file\n",
    "for i, file_name in enumerate(file_list):\n",
    "    # Tentukan path lengkap file lama\n",
    "    old_file_path = os.path.join(data_dir, file_name)\n",
    "    \n",
    "    # Tentukan nama baru untuk file\n",
    "    new_file_name = f'botol{i+1}.jpg'  # Misalnya, gunakan format image_X.jpg\n",
    "    \n",
    "    # Tentukan path lengkap file baru\n",
    "    new_file_path = os.path.join(data_dir, new_file_name)\n",
    "    \n",
    "    # Rename file\n",
    "    shutil.move(old_file_path, new_file_path)"
   ]
  }
 ],
 "metadata": {
  "kernelspec": {
   "display_name": "Python 3",
   "language": "python",
   "name": "python3"
  },
  "language_info": {
   "codemirror_mode": {
    "name": "ipython",
    "version": 3
   },
   "file_extension": ".py",
   "mimetype": "text/x-python",
   "name": "python",
   "nbconvert_exporter": "python",
   "pygments_lexer": "ipython3",
   "version": "3.10.6"
  },
  "orig_nbformat": 4
 },
 "nbformat": 4,
 "nbformat_minor": 2
}
